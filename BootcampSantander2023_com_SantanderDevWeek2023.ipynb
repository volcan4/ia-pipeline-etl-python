{
  "nbformat": 4,
  "nbformat_minor": 0,
  "metadata": {
    "colab": {
      "provenance": [],
      "collapsed_sections": [
        "kNuP0SDUZMBY"
      ],
      "include_colab_link": true
    },
    "kernelspec": {
      "name": "python3",
      "display_name": "Python 3"
    },
    "language_info": {
      "name": "python"
    }
  },
  "cells": [
    {
      "cell_type": "markdown",
      "metadata": {
        "id": "view-in-github",
        "colab_type": "text"
      },
      "source": [
        "<a href=\"https://colab.research.google.com/github/volcan4/ia-pipeline-etl-python/blob/main/BootcampSantander2023_com_SantanderDevWeek2023.ipynb\" target=\"_parent\"><img src=\"https://colab.research.google.com/assets/colab-badge.svg\" alt=\"Open In Colab\"/></a>"
      ]
    },
    {
      "cell_type": "markdown",
      "source": [
        "# Bootcamp Santander 2023 (Ciência de Dados Com Python) com Santander Dev Week 2023 (ETL com Python)"
      ],
      "metadata": {
        "id": "BPJQsTCULaC-"
      }
    },
    {
      "cell_type": "markdown",
      "source": [
        "**Contexto:** Você é um cientista de dados no Santander e recebeu a tarefa de envolver seus clientes de maneira mais personalizada. Seu objetivo é usar o poder da IA Generativa para criar mensagens de marketing personalizadas que serão entregues a cada cliente.\n",
        "\n",
        "**Condições do Problema:**\n",
        "\n",
        "1. Você recebeu uma planilha simples, em formato CSV ('SDW2023.csv'), com uma lista de IDs de usuário do banco:\n",
        "  ```\n",
        "  UserID\n",
        "  1\n",
        "  2\n",
        "  3\n",
        "  4\n",
        "  5\n",
        "  ```\n",
        "2. Seu trabalho é consumir o endpoint `GET https://sdw-2023-prd.up.railway.app/users/{id}` (API da Santander Dev Week 2023) para obter os dados de cada cliente.\n",
        "3. Depois de obter os dados dos clientes, você vai usar a API do ChatGPT (OpenAI) para gerar uma mensagem de marketing personalizada para cada cliente. Essa mensagem deve enfatizar a importância dos investimentos.\n",
        "4. Uma vez que a mensagem para cada cliente esteja pronta, você vai enviar essas informações de volta para a API, atualizando a lista de \"news\" de cada usuário usando o endpoint `PUT https://sdw-2023-prd.up.railway.app/users/{id}`.\n",
        "\n"
      ],
      "metadata": {
        "id": "k5fA5OrXt1a3"
      }
    },
    {
      "cell_type": "code",
      "source": [
        "# Utilize sua própria URL se quiser ;)\n",
        "# Repositório da API: https://github.com/digitalinnovationone/santander-dev-week-2023-api\n",
        "bcs2023_api_url = 'https://sdw-2023-prd.up.railway.app/users/'"
      ],
      "metadata": {
        "id": "FKqLC_CWoYqR"
      },
      "execution_count": null,
      "outputs": []
    },
    {
      "cell_type": "markdown",
      "source": [
        "## **E**xtract\n",
        "\n",
        "Extraia a lista de IDs de usuário a partir do arquivo CSV. Para cada ID, faça uma requisição GET para obter os dados do usuário correspondente."
      ],
      "metadata": {
        "id": "9dfI-o7gLRq9"
      }
    },
    {
      "cell_type": "code",
      "execution_count": null,
      "metadata": {
        "id": "NYydpX_GLRCB",
        "outputId": "46937535-7007-495a-a433-eaf8d31dca14",
        "colab": {
          "base_uri": "https://localhost:8080/"
        }
      },
      "outputs": [
        {
          "output_type": "stream",
          "name": "stdout",
          "text": [
            "[3183, 3187, 3188]\n"
          ]
        }
      ],
      "source": [
        "import pandas as pd\n",
        "\n",
        "df = pd.read_csv('BCS2023.csv')\n",
        "user_ids = df['UserID'].tolist()\n",
        "print(user_ids)"
      ]
    },
    {
      "cell_type": "code",
      "source": [
        "import requests\n",
        "import json\n",
        "\n",
        "def get_user(id):\n",
        "  response = requests.get(f'{bcs2023_api_url}{id}')\n",
        "  return response.json() if response.status_code == 200 else None\n",
        "\n",
        "users = [user for id in user_ids if (user := get_user(id)) is not None]\n",
        "print(json.dumps(users, indent=2))"
      ],
      "metadata": {
        "id": "F5XOuCZGSTGw",
        "colab": {
          "base_uri": "https://localhost:8080/"
        },
        "outputId": "5f472e7a-f664-4067-e42f-3c75718dcd94"
      },
      "execution_count": null,
      "outputs": [
        {
          "output_type": "stream",
          "name": "stdout",
          "text": [
            "[\n",
            "  {\n",
            "    \"id\": 3183,\n",
            "    \"name\": \"Luffy\",\n",
            "    \"account\": {\n",
            "      \"id\": 3363,\n",
            "      \"number\": \"01071-1\",\n",
            "      \"agency\": \"0001\",\n",
            "      \"balance\": 0.0,\n",
            "      \"limit\": 30000000.0\n",
            "    },\n",
            "    \"card\": {\n",
            "      \"id\": 3079,\n",
            "      \"number\": \"**** **** **** 1076\",\n",
            "      \"limit\": 3000000000.0\n",
            "    },\n",
            "    \"features\": [],\n",
            "    \"news\": [\n",
            "      {\n",
            "        \"id\": 6636,\n",
            "        \"icon\": \"https://digitalinnovationone.github.io/santander-dev-week-2023-api/icons/credit.svg\",\n",
            "        \"description\": \"Luffy, os tesouros das tuas aventuras s\\u00e3o valiosos! Invista sabiamente para garantir um futuro sustent\\u00e1vel e explorar novas oportunidades na \\u00faltima ilha. Seu poder n\\u00e3o est\\u00e1 apenas em conquistar desafios, mas tamb\\u00e9m em prosperar ao cuidar do seu tesouro!\"\n",
            "      },\n",
            "      {\n",
            "        \"id\": 6637,\n",
            "        \"icon\": \"https://digitalinnovationone.github.io/santander-dev-week-2023-api/icons/credit.svg\",\n",
            "        \"description\": \"Luffy, invista seus tesouros como um verdadeiro Rei dos Piratas! Fa\\u00e7a seu dinheiro trabalhar para voc\\u00ea na busca pela \\u00faltima ilha. Maximize seus lucros e garanta um futuro pr\\u00f3spero! #InvestimentosPiratas\"\n",
            "      },\n",
            "      {\n",
            "        \"id\": 6638,\n",
            "        \"icon\": \"https://digitalinnovationone.github.io/santander-dev-week-2023-api/icons/credit.svg\",\n",
            "        \"description\": \"Luffy, investir seus tesouros \\u00e9 vital! Garanta um futuro pr\\u00f3spero enquanto continua sua jornada. Transforme moedas em poder, estabele\\u00e7a neg\\u00f3cios e obtenha riquezas al\\u00e9m dos mares. Fa\\u00e7a seus tesouros crescerem, capit\\u00e3o! #PirateInvestments #OnePiece\"\n",
            "      },\n",
            "      {\n",
            "        \"id\": 6639,\n",
            "        \"icon\": \"https://digitalinnovationone.github.io/santander-dev-week-2023-api/icons/credit.svg\",\n",
            "        \"description\": \"Luffy, o rei dos piratas! Sua coragem te trouxe at\\u00e9 aqui. Invista seus tesouros melhorando sua tripula\\u00e7\\u00e3o, navio e armas para a \\u00faltima ilha. Proteja seu futuro e garanta sua grandeza! #PirateInvesting\"\n",
            "      }\n",
            "    ]\n",
            "  },\n",
            "  {\n",
            "    \"id\": 3187,\n",
            "    \"name\": \"Zoro\",\n",
            "    \"account\": {\n",
            "      \"id\": 3367,\n",
            "      \"number\": \"01060-2\",\n",
            "      \"agency\": \"0001\",\n",
            "      \"balance\": 0.0,\n",
            "      \"limit\": 60000000.0\n",
            "    },\n",
            "    \"card\": {\n",
            "      \"id\": 3083,\n",
            "      \"number\": \"**** **** **** 1062\",\n",
            "      \"limit\": 1111000000.0\n",
            "    },\n",
            "    \"features\": [],\n",
            "    \"news\": [\n",
            "      {\n",
            "        \"id\": 6627,\n",
            "        \"icon\": \"https://digitalinnovationone.github.io/santander-dev-week-2023-api/icons/credit.svg\",\n",
            "        \"description\": \"Zoro, invista em seu futuro com sabedoria! Tesouro \\u00e9 para ser multiplicado, n\\u00e3o desperdi\\u00e7ado! #Estrat\\u00e9giaFinanceira\"\n",
            "      },\n",
            "      {\n",
            "        \"id\": 6628,\n",
            "        \"icon\": \"https://digitalinnovationone.github.io/santander-dev-week-2023-api/icons/credit.svg\",\n",
            "        \"description\": \"Invista seu tesouro, Zoro! Aproveite suas recompensas!\"\n",
            "      },\n",
            "      {\n",
            "        \"id\": 6629,\n",
            "        \"icon\": \"https://digitalinnovationone.github.io/santander-dev-week-2023-api/icons/credit.svg\",\n",
            "        \"description\": \"Zoro, o dom\\u00ednio das \\u00e1guas e das espadas \\u00e9 importante, mas n\\u00e3o se esque\\u00e7a de investir seus tesouros em busca de um futuro pr\\u00f3spero. Prepara-se para a Grande Guerra final com cautela e intelig\\u00eancia financeira! #PiratasInvestidores\"\n",
            "      },\n",
            "      {\n",
            "        \"id\": 6640,\n",
            "        \"icon\": \"https://digitalinnovationone.github.io/santander-dev-week-2023-api/icons/credit.svg\",\n",
            "        \"description\": \"Zoro, invista seus tesouros em busca do futuro! A \\u00faltima ilha \\u00e9 apenas o come\\u00e7o de uma jornada \\u00e9pica. Planeje e diversifique seus investimentos para garantir uma vida de riquezas e honrar seus companheiros! #PirateFinance\"\n",
            "      },\n",
            "      {\n",
            "        \"id\": 6641,\n",
            "        \"icon\": \"https://digitalinnovationone.github.io/santander-dev-week-2023-api/icons/credit.svg\",\n",
            "        \"description\": \"Zoro, invista seus tesouros e veja-os crescer! Prepare-se para a \\u00faltima ilha com sabedoria financeira. Seu futuro pirata est\\u00e1 em suas m\\u00e3os! #InvestirComoUmPirata\"\n",
            "      },\n",
            "      {\n",
            "        \"id\": 6642,\n",
            "        \"icon\": \"https://digitalinnovationone.github.io/santander-dev-week-2023-api/icons/credit.svg\",\n",
            "        \"description\": \"Zoro, aproveite os tesouros conquistados com suas vit\\u00f3rias e invista sabiamente! Garanta um futuro seguro na busca pela \\u00faltima ilha! #PiratasInvestidores #RumoAoTesouroFinal\"\n",
            "      },\n",
            "      {\n",
            "        \"id\": 6643,\n",
            "        \"icon\": \"https://digitalinnovationone.github.io/santander-dev-week-2023-api/icons/credit.svg\",\n",
            "        \"description\": \"Zoro, valorize cada saque com estrat\\u00e9gia. Invista seus tesouros com sabedoria na busca pela \\u00faltima ilha. Conquiste seu futuro com adaptabilidade. Rumo \\u00e0 grandiosidade! #PirateInvestments\"\n",
            "      }\n",
            "    ]\n",
            "  },\n",
            "  {\n",
            "    \"id\": 3188,\n",
            "    \"name\": \"Sanji\",\n",
            "    \"account\": {\n",
            "      \"id\": 3368,\n",
            "      \"number\": \"00840-3\",\n",
            "      \"agency\": \"0001\",\n",
            "      \"balance\": 0.0,\n",
            "      \"limit\": 77000000.0\n",
            "    },\n",
            "    \"card\": {\n",
            "      \"id\": 3084,\n",
            "      \"number\": \"**** **** **** 1061\",\n",
            "      \"limit\": 1032000000.0\n",
            "    },\n",
            "    \"features\": [],\n",
            "    \"news\": [\n",
            "      {\n",
            "        \"id\": 6630,\n",
            "        \"icon\": \"https://digitalinnovationone.github.io/santander-dev-week-2023-api/icons/credit.svg\",\n",
            "        \"description\": \"Sanji, invista seu talento culin\\u00e1rio e amasse os lucros! #1Pe\\u00e7aDoSeuFuturo\"\n",
            "      },\n",
            "      {\n",
            "        \"id\": 6631,\n",
            "        \"icon\": \"https://digitalinnovationone.github.io/santander-dev-week-2023-api/icons/credit.svg\",\n",
            "        \"description\": \"Maximize sua riqueza com investimentos estrat\\u00e9gicos, Sanji!\"\n",
            "      },\n",
            "      {\n",
            "        \"id\": 6632,\n",
            "        \"icon\": \"https://digitalinnovationone.github.io/santander-dev-week-2023-api/icons/credit.svg\",\n",
            "        \"description\": \"Sanji, invista seus tesouros em crescimento sustent\\u00e1vel para a \\u00faltima ilha e aproveite uma vida de luxo duradoura!\"\n",
            "      },\n",
            "      {\n",
            "        \"id\": 6644,\n",
            "        \"icon\": \"https://digitalinnovationone.github.io/santander-dev-week-2023-api/icons/credit.svg\",\n",
            "        \"description\": \"Sanji, invista seus tesouros com sabedoria! Planeje sua aposentadoria na \\u00faltima ilha e garanta um futuro tranquilo. Seja um pirata financeiramente inteligente! #InvestimentosPiratas\"\n",
            "      },\n",
            "      {\n",
            "        \"id\": 6645,\n",
            "        \"icon\": \"https://digitalinnovationone.github.io/santander-dev-week-2023-api/icons/credit.svg\",\n",
            "        \"description\": \"Sanji, invista seus tesouros com sabedoria na \\u00faltima ilha. Garanta um futuro pr\\u00f3spero e sustent\\u00e1vel para a tripula\\u00e7\\u00e3o e desfrute das recompensas de suas aventuras. Seja o capit\\u00e3o financeiro que todos precisam! #Investir\\u00c9PiratariaEstrat\\u00e9gica\"\n",
            "      }\n",
            "    ]\n",
            "  }\n",
            "]\n"
          ]
        }
      ]
    },
    {
      "cell_type": "markdown",
      "source": [
        "## **T**ransform\n",
        "\n",
        "Utilize a API do OpenAI GPT-4 para gerar uma mensagem de marketing personalizada para cada usuário."
      ],
      "metadata": {
        "id": "cWoqInB4TF1x"
      }
    },
    {
      "cell_type": "code",
      "source": [
        "!pip install openai"
      ],
      "metadata": {
        "id": "O--PCAObTQkK",
        "outputId": "eb721283-e684-4a87-cde5-c939cff1f396",
        "colab": {
          "base_uri": "https://localhost:8080/"
        }
      },
      "execution_count": null,
      "outputs": [
        {
          "output_type": "stream",
          "name": "stdout",
          "text": [
            "Collecting openai\n",
            "  Downloading openai-0.28.0-py3-none-any.whl (76 kB)\n",
            "\u001b[?25l     \u001b[90m━━━━━━━━━━━━━━━━━━━━━━━━━━━━━━━━━━━━━━━━\u001b[0m \u001b[32m0.0/76.5 kB\u001b[0m \u001b[31m?\u001b[0m eta \u001b[36m-:--:--\u001b[0m\r\u001b[2K     \u001b[91m━━━━━━━━━━━━━━━━━━━━━━━━━━━━━━━━━━━━━\u001b[0m\u001b[90m╺\u001b[0m\u001b[90m━━\u001b[0m \u001b[32m71.7/76.5 kB\u001b[0m \u001b[31m2.2 MB/s\u001b[0m eta \u001b[36m0:00:01\u001b[0m\r\u001b[2K     \u001b[90m━━━━━━━━━━━━━━━━━━━━━━━━━━━━━━━━━━━━━━━━\u001b[0m \u001b[32m76.5/76.5 kB\u001b[0m \u001b[31m1.9 MB/s\u001b[0m eta \u001b[36m0:00:00\u001b[0m\n",
            "\u001b[?25hRequirement already satisfied: requests>=2.20 in /usr/local/lib/python3.10/dist-packages (from openai) (2.31.0)\n",
            "Requirement already satisfied: tqdm in /usr/local/lib/python3.10/dist-packages (from openai) (4.66.1)\n",
            "Requirement already satisfied: aiohttp in /usr/local/lib/python3.10/dist-packages (from openai) (3.8.5)\n",
            "Requirement already satisfied: charset-normalizer<4,>=2 in /usr/local/lib/python3.10/dist-packages (from requests>=2.20->openai) (3.2.0)\n",
            "Requirement already satisfied: idna<4,>=2.5 in /usr/local/lib/python3.10/dist-packages (from requests>=2.20->openai) (3.4)\n",
            "Requirement already satisfied: urllib3<3,>=1.21.1 in /usr/local/lib/python3.10/dist-packages (from requests>=2.20->openai) (2.0.4)\n",
            "Requirement already satisfied: certifi>=2017.4.17 in /usr/local/lib/python3.10/dist-packages (from requests>=2.20->openai) (2023.7.22)\n",
            "Requirement already satisfied: attrs>=17.3.0 in /usr/local/lib/python3.10/dist-packages (from aiohttp->openai) (23.1.0)\n",
            "Requirement already satisfied: multidict<7.0,>=4.5 in /usr/local/lib/python3.10/dist-packages (from aiohttp->openai) (6.0.4)\n",
            "Requirement already satisfied: async-timeout<5.0,>=4.0.0a3 in /usr/local/lib/python3.10/dist-packages (from aiohttp->openai) (4.0.3)\n",
            "Requirement already satisfied: yarl<2.0,>=1.0 in /usr/local/lib/python3.10/dist-packages (from aiohttp->openai) (1.9.2)\n",
            "Requirement already satisfied: frozenlist>=1.1.1 in /usr/local/lib/python3.10/dist-packages (from aiohttp->openai) (1.4.0)\n",
            "Requirement already satisfied: aiosignal>=1.1.2 in /usr/local/lib/python3.10/dist-packages (from aiohttp->openai) (1.3.1)\n",
            "Installing collected packages: openai\n",
            "Successfully installed openai-0.28.0\n"
          ]
        }
      ]
    },
    {
      "cell_type": "code",
      "source": [
        "# Documentação Oficial da API OpenAI: https://platform.openai.com/docs/api-reference/introduction\n",
        "# Informações sobre o Período Gratuito: https://help.openai.com/en/articles/4936830\n",
        "\n",
        "# Para gerar uma API Key:\n",
        "# 1. Crie uma conta na OpenAI\n",
        "# 2. Acesse a seção \"API Keys\"\n",
        "# 3. Clique em \"Create API Key\"\n",
        "# Link direto: https://platform.openai.com/account/api-keys\n",
        "\n",
        "# Substitua o texto TODO por sua API Key da OpenAI, ela será salva como uma variável de ambiente.\n",
        "openai_api_key = 'SuACHavEaPIaquI'"
      ],
      "metadata": {
        "id": "sUB1doiDTX3y"
      },
      "execution_count": null,
      "outputs": []
    },
    {
      "cell_type": "code",
      "source": [
        "import openai\n",
        "\n",
        "openai.api_key = openai_api_key\n",
        "\n",
        "def generate_ai_news(user):\n",
        "  completion = openai.ChatCompletion.create(\n",
        "    model=\"gpt-3.5-turbo\",\n",
        "    messages=[\n",
        "      {\n",
        "          \"role\": \"system\",\n",
        "          \"content\": \"Você é um especialista em markting bancário para os piratas do mundo de One Piece.\"\n",
        "      },\n",
        "      {\n",
        "          \"role\": \"user\",\n",
        "          \"content\": f\"Crie uma mensagem para {user['name']} sobre a importância dos investimentos dos tesouros acumulados nas aventuras rumo a última ilha (máximo de 300 caracteres)\"\n",
        "      }\n",
        "    ]\n",
        "  )\n",
        "  return completion.choices[0].message.content.strip('\\\"')\n",
        "\n",
        "for user in users:\n",
        "  news = generate_ai_news(user)\n",
        "  print(news)\n",
        "  user['news'].append({\n",
        "      \"icon\": \"https://digitalinnovationone.github.io/santander-dev-week-2023-api/icons/credit.svg\",\n",
        "      \"description\": news\n",
        "  })"
      ],
      "metadata": {
        "id": "n1w78kNxTrZY",
        "colab": {
          "base_uri": "https://localhost:8080/"
        },
        "outputId": "ddf52d63-0f05-4899-9f0b-112704ab7cca"
      },
      "execution_count": null,
      "outputs": [
        {
          "output_type": "stream",
          "name": "stdout",
          "text": [
            "Luffy, o rei dos piratas! Sua coragem te trouxe até aqui. Invista seus tesouros melhorando sua tripulação, navio e armas para a última ilha. Proteja seu futuro e garanta sua grandeza! #PirateInvesting\n",
            "Zoro, valorize cada saque com estratégia. Invista seus tesouros com sabedoria na busca pela última ilha. Conquiste seu futuro com adaptabilidade. Rumo à grandiosidade! #PirateInvestments\n",
            "Sanji, invista seus tesouros com sabedoria na última ilha. Garanta um futuro próspero e sustentável para a tripulação e desfrute das recompensas de suas aventuras. Seja o capitão financeiro que todos precisam! #InvestirÉPiratariaEstratégica\n"
          ]
        }
      ]
    },
    {
      "cell_type": "markdown",
      "source": [
        "## **L**oad\n",
        "\n",
        "Atualize a lista de \"news\" de cada usuário na API com a nova mensagem gerada."
      ],
      "metadata": {
        "id": "kNuP0SDUZMBY"
      }
    },
    {
      "cell_type": "code",
      "source": [
        "def update_user(user):\n",
        "  response = requests.put(f\"{bcs2023_api_url}{user['id']}\", json=user)\n",
        "  return True if response.status_code == 200 else False\n",
        "\n",
        "for user in users:\n",
        "  success = update_user(user)\n",
        "  print(f\"User {user['name']} updated? {success}!\")"
      ],
      "metadata": {
        "id": "YefWfYBoZMN2",
        "colab": {
          "base_uri": "https://localhost:8080/"
        },
        "outputId": "f5cbc2b0-da26-4366-c7b4-37f1b0dc6166"
      },
      "execution_count": null,
      "outputs": [
        {
          "output_type": "stream",
          "name": "stdout",
          "text": [
            "User Luffy updated? True!\n",
            "User Zoro updated? True!\n",
            "User Sanji updated? True!\n"
          ]
        }
      ]
    }
  ]
}
